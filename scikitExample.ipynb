{
 "metadata": {
  "name": "scikitExample"
 },
 "nbformat": 3,
 "nbformat_minor": 0,
 "worksheets": [
  {
   "cells": [
    {
     "cell_type": "code",
     "collapsed": false,
     "input": [
      "from sklearn.naive_bayes import GaussianNB\n",
      "from sklearn.feature_extraction import DictVectorizer\n",
      "import numpy as np\n",
      "import os\n",
      "import ridParser\n",
      "\n",
      "path = '~/Dropbox/QUANTESS/corpora/iebudgets/budget_2010/'\n",
      "path = os.path.expanduser(path)\t\t# get machine independent path\n",
      "fnames = os.listdir(path)\n",
      "docs = []\n",
      "labels =[]\n",
      "for fname in fnames:\n",
      "        f = open(os.path.join(path,fname))\n",
      "        text = f.read()\n",
      "        docs.append(text)\n",
      "        label = \"GOV\" if \"Green\" in fname or \"FF\" in fname else \"OPP\"\n",
      "    \tlabels.append(label)\n",
      "\n",
      "# load the dictionary using rid.py\n",
      "rid = ridParser.RegressiveImageryDictionary()\n",
      "rid.load_dictionary_from_string(ridParser.DEFAULT_RID_DICTIONARY)\n",
      "rid.load_exclusion_list_from_string(ridParser.DEFAULT_RID_EXCLUSION_LIST)\n",
      "\n",
      "data =[]\n",
      "vec = DictVectorizer()\n",
      "for speech in docs:\n",
      "\t# get a dictionary of category counts from rid\n",
      "\tcat_counts = (rid.analyze(speech).category_count)\n",
      "\tfor x in cat_counts:\n",
      "\t\tprint x\n",
      "\t\tprint cat_counts[x]\n",
      "\n",
      "\tcat_counts = vec.fit_transform(cat_counts).toarray()\n",
      "\tthisDoc = (cat_counts)\n",
      "\tdata.append(thisDoc)\n",
      "\n",
      "clf = GaussianNB()\n",
      "data = np.array(data)\n",
      "print(type(data[4]))\n",
      "clf.fit(data[0:5], labels[0:5])\n",
      "#print(clf.predict(data[5:10]))"
     ],
     "language": "python",
     "metadata": {},
     "outputs": []
    }
   ],
   "metadata": {}
  }
 ]
}